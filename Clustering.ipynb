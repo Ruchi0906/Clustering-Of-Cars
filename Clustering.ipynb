{
 "cells": [
  {
   "cell_type": "code",
   "execution_count": 1,
   "id": "c15b4d84",
   "metadata": {},
   "outputs": [],
   "source": [
    "import pandas as pd\n",
    "from warnings import filterwarnings\n",
    "filterwarnings(\"ignore\")\n",
    "import matplotlib.pyplot as plt\n",
    "import seaborn as sb"
   ]
  },
  {
   "cell_type": "markdown",
   "id": "7be8a4b3",
   "metadata": {},
   "source": [
    "# Read Data"
   ]
  },
  {
   "cell_type": "code",
   "execution_count": 2,
   "id": "622c1abb",
   "metadata": {},
   "outputs": [],
   "source": [
    "A = pd.read_csv(\"C:/Users/AYUSH/Desktop/Dataset/Cars93.csv\")"
   ]
  },
  {
   "cell_type": "code",
   "execution_count": 3,
   "id": "ab780169",
   "metadata": {},
   "outputs": [
    {
     "data": {
      "text/html": [
       "<div>\n",
       "<style scoped>\n",
       "    .dataframe tbody tr th:only-of-type {\n",
       "        vertical-align: middle;\n",
       "    }\n",
       "\n",
       "    .dataframe tbody tr th {\n",
       "        vertical-align: top;\n",
       "    }\n",
       "\n",
       "    .dataframe thead th {\n",
       "        text-align: right;\n",
       "    }\n",
       "</style>\n",
       "<table border=\"1\" class=\"dataframe\">\n",
       "  <thead>\n",
       "    <tr style=\"text-align: right;\">\n",
       "      <th></th>\n",
       "      <th>id</th>\n",
       "      <th>Manufacturer</th>\n",
       "      <th>Model</th>\n",
       "      <th>Type</th>\n",
       "      <th>Min.Price</th>\n",
       "      <th>Price</th>\n",
       "      <th>Max.Price</th>\n",
       "      <th>MPG.city</th>\n",
       "      <th>MPG.highway</th>\n",
       "      <th>AirBags</th>\n",
       "      <th>...</th>\n",
       "      <th>Passengers</th>\n",
       "      <th>Length</th>\n",
       "      <th>Wheelbase</th>\n",
       "      <th>Width</th>\n",
       "      <th>Turn.circle</th>\n",
       "      <th>Rear.seat.room</th>\n",
       "      <th>Luggage.room</th>\n",
       "      <th>Weight</th>\n",
       "      <th>Origin</th>\n",
       "      <th>Make</th>\n",
       "    </tr>\n",
       "  </thead>\n",
       "  <tbody>\n",
       "    <tr>\n",
       "      <th>0</th>\n",
       "      <td>1</td>\n",
       "      <td>Acura</td>\n",
       "      <td>Integra</td>\n",
       "      <td>Small</td>\n",
       "      <td>12.9</td>\n",
       "      <td>15.9</td>\n",
       "      <td>18.8</td>\n",
       "      <td>25</td>\n",
       "      <td>31</td>\n",
       "      <td>None</td>\n",
       "      <td>...</td>\n",
       "      <td>5</td>\n",
       "      <td>177</td>\n",
       "      <td>102</td>\n",
       "      <td>68</td>\n",
       "      <td>37</td>\n",
       "      <td>26.5</td>\n",
       "      <td>11.0</td>\n",
       "      <td>2705</td>\n",
       "      <td>non-USA</td>\n",
       "      <td>Acura Integra</td>\n",
       "    </tr>\n",
       "    <tr>\n",
       "      <th>1</th>\n",
       "      <td>2</td>\n",
       "      <td>Acura</td>\n",
       "      <td>Legend</td>\n",
       "      <td>Midsize</td>\n",
       "      <td>29.2</td>\n",
       "      <td>33.9</td>\n",
       "      <td>38.7</td>\n",
       "      <td>18</td>\n",
       "      <td>25</td>\n",
       "      <td>Driver &amp; Passenger</td>\n",
       "      <td>...</td>\n",
       "      <td>5</td>\n",
       "      <td>195</td>\n",
       "      <td>115</td>\n",
       "      <td>71</td>\n",
       "      <td>38</td>\n",
       "      <td>30.0</td>\n",
       "      <td>15.0</td>\n",
       "      <td>3560</td>\n",
       "      <td>non-USA</td>\n",
       "      <td>Acura Legend</td>\n",
       "    </tr>\n",
       "    <tr>\n",
       "      <th>2</th>\n",
       "      <td>3</td>\n",
       "      <td>Audi</td>\n",
       "      <td>90</td>\n",
       "      <td>Compact</td>\n",
       "      <td>25.9</td>\n",
       "      <td>29.1</td>\n",
       "      <td>32.3</td>\n",
       "      <td>20</td>\n",
       "      <td>26</td>\n",
       "      <td>Driver only</td>\n",
       "      <td>...</td>\n",
       "      <td>5</td>\n",
       "      <td>180</td>\n",
       "      <td>102</td>\n",
       "      <td>67</td>\n",
       "      <td>37</td>\n",
       "      <td>28.0</td>\n",
       "      <td>14.0</td>\n",
       "      <td>3375</td>\n",
       "      <td>non-USA</td>\n",
       "      <td>Audi 90</td>\n",
       "    </tr>\n",
       "    <tr>\n",
       "      <th>3</th>\n",
       "      <td>4</td>\n",
       "      <td>Audi</td>\n",
       "      <td>100</td>\n",
       "      <td>Midsize</td>\n",
       "      <td>30.8</td>\n",
       "      <td>37.7</td>\n",
       "      <td>44.6</td>\n",
       "      <td>19</td>\n",
       "      <td>26</td>\n",
       "      <td>NaN</td>\n",
       "      <td>...</td>\n",
       "      <td>6</td>\n",
       "      <td>193</td>\n",
       "      <td>106</td>\n",
       "      <td>70</td>\n",
       "      <td>37</td>\n",
       "      <td>31.0</td>\n",
       "      <td>17.0</td>\n",
       "      <td>3405</td>\n",
       "      <td>non-USA</td>\n",
       "      <td>Audi 100</td>\n",
       "    </tr>\n",
       "    <tr>\n",
       "      <th>4</th>\n",
       "      <td>5</td>\n",
       "      <td>BMW</td>\n",
       "      <td>535i</td>\n",
       "      <td>Midsize</td>\n",
       "      <td>23.7</td>\n",
       "      <td>30.0</td>\n",
       "      <td>36.2</td>\n",
       "      <td>22</td>\n",
       "      <td>30</td>\n",
       "      <td>Driver only</td>\n",
       "      <td>...</td>\n",
       "      <td>4</td>\n",
       "      <td>186</td>\n",
       "      <td>109</td>\n",
       "      <td>69</td>\n",
       "      <td>39</td>\n",
       "      <td>27.0</td>\n",
       "      <td>13.0</td>\n",
       "      <td>3640</td>\n",
       "      <td>non-USA</td>\n",
       "      <td>BMW 535i</td>\n",
       "    </tr>\n",
       "  </tbody>\n",
       "</table>\n",
       "<p>5 rows × 28 columns</p>\n",
       "</div>"
      ],
      "text/plain": [
       "   id Manufacturer    Model     Type  Min.Price  Price  Max.Price  MPG.city  \\\n",
       "0   1        Acura  Integra    Small       12.9   15.9       18.8        25   \n",
       "1   2        Acura   Legend  Midsize       29.2   33.9       38.7        18   \n",
       "2   3         Audi       90  Compact       25.9   29.1       32.3        20   \n",
       "3   4         Audi      100  Midsize       30.8   37.7       44.6        19   \n",
       "4   5          BMW     535i  Midsize       23.7   30.0       36.2        22   \n",
       "\n",
       "   MPG.highway             AirBags  ... Passengers Length  Wheelbase  Width  \\\n",
       "0           31                None  ...          5    177        102     68   \n",
       "1           25  Driver & Passenger  ...          5    195        115     71   \n",
       "2           26         Driver only  ...          5    180        102     67   \n",
       "3           26                 NaN  ...          6    193        106     70   \n",
       "4           30         Driver only  ...          4    186        109     69   \n",
       "\n",
       "   Turn.circle  Rear.seat.room Luggage.room  Weight   Origin           Make  \n",
       "0           37            26.5         11.0    2705  non-USA  Acura Integra  \n",
       "1           38            30.0         15.0    3560  non-USA   Acura Legend  \n",
       "2           37            28.0         14.0    3375  non-USA        Audi 90  \n",
       "3           37            31.0         17.0    3405  non-USA       Audi 100  \n",
       "4           39            27.0         13.0    3640  non-USA       BMW 535i  \n",
       "\n",
       "[5 rows x 28 columns]"
      ]
     },
     "execution_count": 3,
     "metadata": {},
     "output_type": "execute_result"
    }
   ],
   "source": [
    "A.head()"
   ]
  },
  {
   "cell_type": "markdown",
   "id": "20b882b0",
   "metadata": {},
   "source": [
    "# Profile"
   ]
  },
  {
   "cell_type": "code",
   "execution_count": 4,
   "id": "81653c5b",
   "metadata": {},
   "outputs": [
    {
     "data": {
      "text/plain": [
       "(93, 28)"
      ]
     },
     "execution_count": 4,
     "metadata": {},
     "output_type": "execute_result"
    }
   ],
   "source": [
    "A.shape"
   ]
  },
  {
   "cell_type": "code",
   "execution_count": 5,
   "id": "6c2cfc4a",
   "metadata": {},
   "outputs": [
    {
     "name": "stdout",
     "output_type": "stream",
     "text": [
      "<class 'pandas.core.frame.DataFrame'>\n",
      "RangeIndex: 93 entries, 0 to 92\n",
      "Data columns (total 28 columns):\n",
      " #   Column              Non-Null Count  Dtype  \n",
      "---  ------              --------------  -----  \n",
      " 0   id                  93 non-null     int64  \n",
      " 1   Manufacturer        93 non-null     object \n",
      " 2   Model               93 non-null     object \n",
      " 3   Type                93 non-null     object \n",
      " 4   Min.Price           93 non-null     float64\n",
      " 5   Price               93 non-null     float64\n",
      " 6   Max.Price           93 non-null     float64\n",
      " 7   MPG.city            93 non-null     int64  \n",
      " 8   MPG.highway         93 non-null     int64  \n",
      " 9   AirBags             89 non-null     object \n",
      " 10  DriveTrain          93 non-null     object \n",
      " 11  Cylinders           93 non-null     object \n",
      " 12  EngineSize          93 non-null     float64\n",
      " 13  Horsepower          93 non-null     int64  \n",
      " 14  RPM                 93 non-null     int64  \n",
      " 15  Rev.per.mile        93 non-null     int64  \n",
      " 16  Man.trans.avail     93 non-null     object \n",
      " 17  Fuel.tank.capacity  93 non-null     float64\n",
      " 18  Passengers          93 non-null     int64  \n",
      " 19  Length              93 non-null     int64  \n",
      " 20  Wheelbase           93 non-null     int64  \n",
      " 21  Width               93 non-null     int64  \n",
      " 22  Turn.circle         93 non-null     int64  \n",
      " 23  Rear.seat.room      91 non-null     float64\n",
      " 24  Luggage.room        82 non-null     float64\n",
      " 25  Weight              93 non-null     int64  \n",
      " 26  Origin              93 non-null     object \n",
      " 27  Make                93 non-null     object \n",
      "dtypes: float64(7), int64(12), object(9)\n",
      "memory usage: 20.5+ KB\n"
     ]
    }
   ],
   "source": [
    "A.info()"
   ]
  },
  {
   "cell_type": "code",
   "execution_count": 6,
   "id": "5f987b9b",
   "metadata": {},
   "outputs": [
    {
     "data": {
      "text/html": [
       "<div>\n",
       "<style scoped>\n",
       "    .dataframe tbody tr th:only-of-type {\n",
       "        vertical-align: middle;\n",
       "    }\n",
       "\n",
       "    .dataframe tbody tr th {\n",
       "        vertical-align: top;\n",
       "    }\n",
       "\n",
       "    .dataframe thead th {\n",
       "        text-align: right;\n",
       "    }\n",
       "</style>\n",
       "<table border=\"1\" class=\"dataframe\">\n",
       "  <thead>\n",
       "    <tr style=\"text-align: right;\">\n",
       "      <th></th>\n",
       "      <th>id</th>\n",
       "      <th>Min.Price</th>\n",
       "      <th>Price</th>\n",
       "      <th>Max.Price</th>\n",
       "      <th>MPG.city</th>\n",
       "      <th>MPG.highway</th>\n",
       "      <th>EngineSize</th>\n",
       "      <th>Horsepower</th>\n",
       "      <th>RPM</th>\n",
       "      <th>Rev.per.mile</th>\n",
       "      <th>Fuel.tank.capacity</th>\n",
       "      <th>Passengers</th>\n",
       "      <th>Length</th>\n",
       "      <th>Wheelbase</th>\n",
       "      <th>Width</th>\n",
       "      <th>Turn.circle</th>\n",
       "      <th>Rear.seat.room</th>\n",
       "      <th>Luggage.room</th>\n",
       "      <th>Weight</th>\n",
       "    </tr>\n",
       "  </thead>\n",
       "  <tbody>\n",
       "    <tr>\n",
       "      <th>count</th>\n",
       "      <td>93.000000</td>\n",
       "      <td>93.000000</td>\n",
       "      <td>93.000000</td>\n",
       "      <td>93.000000</td>\n",
       "      <td>93.000000</td>\n",
       "      <td>93.000000</td>\n",
       "      <td>93.000000</td>\n",
       "      <td>93.000000</td>\n",
       "      <td>93.000000</td>\n",
       "      <td>93.000000</td>\n",
       "      <td>93.000000</td>\n",
       "      <td>93.000000</td>\n",
       "      <td>93.000000</td>\n",
       "      <td>93.000000</td>\n",
       "      <td>93.000000</td>\n",
       "      <td>93.000000</td>\n",
       "      <td>91.000000</td>\n",
       "      <td>82.000000</td>\n",
       "      <td>93.000000</td>\n",
       "    </tr>\n",
       "    <tr>\n",
       "      <th>mean</th>\n",
       "      <td>47.000000</td>\n",
       "      <td>17.125806</td>\n",
       "      <td>19.509677</td>\n",
       "      <td>21.898925</td>\n",
       "      <td>22.365591</td>\n",
       "      <td>29.086022</td>\n",
       "      <td>2.667742</td>\n",
       "      <td>143.827957</td>\n",
       "      <td>5280.645161</td>\n",
       "      <td>2332.204301</td>\n",
       "      <td>16.664516</td>\n",
       "      <td>5.086022</td>\n",
       "      <td>183.204301</td>\n",
       "      <td>103.946237</td>\n",
       "      <td>69.376344</td>\n",
       "      <td>38.956989</td>\n",
       "      <td>27.829670</td>\n",
       "      <td>13.890244</td>\n",
       "      <td>3072.903226</td>\n",
       "    </tr>\n",
       "    <tr>\n",
       "      <th>std</th>\n",
       "      <td>26.990739</td>\n",
       "      <td>8.746029</td>\n",
       "      <td>9.659430</td>\n",
       "      <td>11.030457</td>\n",
       "      <td>5.619812</td>\n",
       "      <td>5.331726</td>\n",
       "      <td>1.037363</td>\n",
       "      <td>52.374410</td>\n",
       "      <td>596.731690</td>\n",
       "      <td>496.506525</td>\n",
       "      <td>3.279370</td>\n",
       "      <td>1.038979</td>\n",
       "      <td>14.602382</td>\n",
       "      <td>6.819674</td>\n",
       "      <td>3.778986</td>\n",
       "      <td>3.223265</td>\n",
       "      <td>2.989072</td>\n",
       "      <td>2.997967</td>\n",
       "      <td>589.896510</td>\n",
       "    </tr>\n",
       "    <tr>\n",
       "      <th>min</th>\n",
       "      <td>1.000000</td>\n",
       "      <td>6.700000</td>\n",
       "      <td>7.400000</td>\n",
       "      <td>7.900000</td>\n",
       "      <td>15.000000</td>\n",
       "      <td>20.000000</td>\n",
       "      <td>1.000000</td>\n",
       "      <td>55.000000</td>\n",
       "      <td>3800.000000</td>\n",
       "      <td>1320.000000</td>\n",
       "      <td>9.200000</td>\n",
       "      <td>2.000000</td>\n",
       "      <td>141.000000</td>\n",
       "      <td>90.000000</td>\n",
       "      <td>60.000000</td>\n",
       "      <td>32.000000</td>\n",
       "      <td>19.000000</td>\n",
       "      <td>6.000000</td>\n",
       "      <td>1695.000000</td>\n",
       "    </tr>\n",
       "    <tr>\n",
       "      <th>25%</th>\n",
       "      <td>24.000000</td>\n",
       "      <td>10.800000</td>\n",
       "      <td>12.200000</td>\n",
       "      <td>14.700000</td>\n",
       "      <td>18.000000</td>\n",
       "      <td>26.000000</td>\n",
       "      <td>1.800000</td>\n",
       "      <td>103.000000</td>\n",
       "      <td>4800.000000</td>\n",
       "      <td>1985.000000</td>\n",
       "      <td>14.500000</td>\n",
       "      <td>4.000000</td>\n",
       "      <td>174.000000</td>\n",
       "      <td>98.000000</td>\n",
       "      <td>67.000000</td>\n",
       "      <td>37.000000</td>\n",
       "      <td>26.000000</td>\n",
       "      <td>12.000000</td>\n",
       "      <td>2620.000000</td>\n",
       "    </tr>\n",
       "    <tr>\n",
       "      <th>50%</th>\n",
       "      <td>47.000000</td>\n",
       "      <td>14.700000</td>\n",
       "      <td>17.700000</td>\n",
       "      <td>19.600000</td>\n",
       "      <td>21.000000</td>\n",
       "      <td>28.000000</td>\n",
       "      <td>2.400000</td>\n",
       "      <td>140.000000</td>\n",
       "      <td>5200.000000</td>\n",
       "      <td>2340.000000</td>\n",
       "      <td>16.400000</td>\n",
       "      <td>5.000000</td>\n",
       "      <td>183.000000</td>\n",
       "      <td>103.000000</td>\n",
       "      <td>69.000000</td>\n",
       "      <td>39.000000</td>\n",
       "      <td>27.500000</td>\n",
       "      <td>14.000000</td>\n",
       "      <td>3040.000000</td>\n",
       "    </tr>\n",
       "    <tr>\n",
       "      <th>75%</th>\n",
       "      <td>70.000000</td>\n",
       "      <td>20.300000</td>\n",
       "      <td>23.300000</td>\n",
       "      <td>25.300000</td>\n",
       "      <td>25.000000</td>\n",
       "      <td>31.000000</td>\n",
       "      <td>3.300000</td>\n",
       "      <td>170.000000</td>\n",
       "      <td>5750.000000</td>\n",
       "      <td>2565.000000</td>\n",
       "      <td>18.800000</td>\n",
       "      <td>6.000000</td>\n",
       "      <td>192.000000</td>\n",
       "      <td>110.000000</td>\n",
       "      <td>72.000000</td>\n",
       "      <td>41.000000</td>\n",
       "      <td>30.000000</td>\n",
       "      <td>15.000000</td>\n",
       "      <td>3525.000000</td>\n",
       "    </tr>\n",
       "    <tr>\n",
       "      <th>max</th>\n",
       "      <td>93.000000</td>\n",
       "      <td>45.400000</td>\n",
       "      <td>61.900000</td>\n",
       "      <td>80.000000</td>\n",
       "      <td>46.000000</td>\n",
       "      <td>50.000000</td>\n",
       "      <td>5.700000</td>\n",
       "      <td>300.000000</td>\n",
       "      <td>6500.000000</td>\n",
       "      <td>3755.000000</td>\n",
       "      <td>27.000000</td>\n",
       "      <td>8.000000</td>\n",
       "      <td>219.000000</td>\n",
       "      <td>119.000000</td>\n",
       "      <td>78.000000</td>\n",
       "      <td>45.000000</td>\n",
       "      <td>36.000000</td>\n",
       "      <td>22.000000</td>\n",
       "      <td>4105.000000</td>\n",
       "    </tr>\n",
       "  </tbody>\n",
       "</table>\n",
       "</div>"
      ],
      "text/plain": [
       "              id  Min.Price      Price  Max.Price   MPG.city  MPG.highway  \\\n",
       "count  93.000000  93.000000  93.000000  93.000000  93.000000    93.000000   \n",
       "mean   47.000000  17.125806  19.509677  21.898925  22.365591    29.086022   \n",
       "std    26.990739   8.746029   9.659430  11.030457   5.619812     5.331726   \n",
       "min     1.000000   6.700000   7.400000   7.900000  15.000000    20.000000   \n",
       "25%    24.000000  10.800000  12.200000  14.700000  18.000000    26.000000   \n",
       "50%    47.000000  14.700000  17.700000  19.600000  21.000000    28.000000   \n",
       "75%    70.000000  20.300000  23.300000  25.300000  25.000000    31.000000   \n",
       "max    93.000000  45.400000  61.900000  80.000000  46.000000    50.000000   \n",
       "\n",
       "       EngineSize  Horsepower          RPM  Rev.per.mile  Fuel.tank.capacity  \\\n",
       "count   93.000000   93.000000    93.000000     93.000000           93.000000   \n",
       "mean     2.667742  143.827957  5280.645161   2332.204301           16.664516   \n",
       "std      1.037363   52.374410   596.731690    496.506525            3.279370   \n",
       "min      1.000000   55.000000  3800.000000   1320.000000            9.200000   \n",
       "25%      1.800000  103.000000  4800.000000   1985.000000           14.500000   \n",
       "50%      2.400000  140.000000  5200.000000   2340.000000           16.400000   \n",
       "75%      3.300000  170.000000  5750.000000   2565.000000           18.800000   \n",
       "max      5.700000  300.000000  6500.000000   3755.000000           27.000000   \n",
       "\n",
       "       Passengers      Length   Wheelbase      Width  Turn.circle  \\\n",
       "count   93.000000   93.000000   93.000000  93.000000    93.000000   \n",
       "mean     5.086022  183.204301  103.946237  69.376344    38.956989   \n",
       "std      1.038979   14.602382    6.819674   3.778986     3.223265   \n",
       "min      2.000000  141.000000   90.000000  60.000000    32.000000   \n",
       "25%      4.000000  174.000000   98.000000  67.000000    37.000000   \n",
       "50%      5.000000  183.000000  103.000000  69.000000    39.000000   \n",
       "75%      6.000000  192.000000  110.000000  72.000000    41.000000   \n",
       "max      8.000000  219.000000  119.000000  78.000000    45.000000   \n",
       "\n",
       "       Rear.seat.room  Luggage.room       Weight  \n",
       "count       91.000000     82.000000    93.000000  \n",
       "mean        27.829670     13.890244  3072.903226  \n",
       "std          2.989072      2.997967   589.896510  \n",
       "min         19.000000      6.000000  1695.000000  \n",
       "25%         26.000000     12.000000  2620.000000  \n",
       "50%         27.500000     14.000000  3040.000000  \n",
       "75%         30.000000     15.000000  3525.000000  \n",
       "max         36.000000     22.000000  4105.000000  "
      ]
     },
     "execution_count": 6,
     "metadata": {},
     "output_type": "execute_result"
    }
   ],
   "source": [
    "A.describe()"
   ]
  },
  {
   "cell_type": "markdown",
   "id": "0e35af0e",
   "metadata": {},
   "source": [
    "# Replace Null values"
   ]
  },
  {
   "cell_type": "code",
   "execution_count": 7,
   "id": "76deb90f",
   "metadata": {},
   "outputs": [],
   "source": [
    "def Replacer(df):\n",
    "    Q = pd.DataFrame(df.isna().sum(),columns=[\"Count_nan\"])\n",
    "    for i in Q[Q.Count_nan>0].index:\n",
    "        if(df[i].dtypes=='object'):\n",
    "            x = df[i].mode()[0]\n",
    "            df[i] = df[i].fillna(x)\n",
    "        else:\n",
    "            y = round(df[i].mean(),3)\n",
    "            df[i] = df[i].fillna(y)"
   ]
  },
  {
   "cell_type": "code",
   "execution_count": 8,
   "id": "d9b41140",
   "metadata": {},
   "outputs": [],
   "source": [
    "Replacer(A)"
   ]
  },
  {
   "cell_type": "markdown",
   "id": "a34daac3",
   "metadata": {},
   "source": [
    "# K-means Clustering"
   ]
  },
  {
   "cell_type": "code",
   "execution_count": 9,
   "id": "e0b5c8f0",
   "metadata": {},
   "outputs": [],
   "source": [
    "B = A[[\"Price\",\"MPG.city\"]]"
   ]
  },
  {
   "cell_type": "code",
   "execution_count": 10,
   "id": "f4f3b7ba",
   "metadata": {},
   "outputs": [],
   "source": [
    "from sklearn.cluster import KMeans\n",
    "km=KMeans(n_clusters=3)\n",
    "model=km.fit(B)"
   ]
  },
  {
   "cell_type": "code",
   "execution_count": 11,
   "id": "be8c9bce",
   "metadata": {},
   "outputs": [
    {
     "data": {
      "text/plain": [
       "array([0, 2, 2, 2, 2, 0, 0, 0, 0, 2, 2, 1, 1, 0, 0, 0, 0, 0, 2, 0, 0, 2,\n",
       "       1, 1, 0, 0, 0, 0, 1, 0, 1, 1, 1, 0, 1, 0, 0, 0, 1, 1, 0, 1, 0, 1,\n",
       "       1, 1, 0, 2, 2, 2, 2, 2, 1, 1, 1, 0, 2, 2, 2, 0, 0, 1, 0, 1, 0, 0,\n",
       "       0, 1, 0, 0, 0, 0, 1, 1, 0, 0, 0, 2, 1, 1, 1, 0, 1, 1, 0, 0, 0, 1,\n",
       "       0, 0, 0, 0, 0])"
      ]
     },
     "execution_count": 11,
     "metadata": {},
     "output_type": "execute_result"
    }
   ],
   "source": [
    "model.labels_"
   ]
  },
  {
   "cell_type": "code",
   "execution_count": 12,
   "id": "91592432",
   "metadata": {},
   "outputs": [],
   "source": [
    "B['Clusters']=model.labels_"
   ]
  },
  {
   "cell_type": "code",
   "execution_count": 13,
   "id": "87025b0c",
   "metadata": {},
   "outputs": [
    {
     "data": {
      "text/html": [
       "<div>\n",
       "<style scoped>\n",
       "    .dataframe tbody tr th:only-of-type {\n",
       "        vertical-align: middle;\n",
       "    }\n",
       "\n",
       "    .dataframe tbody tr th {\n",
       "        vertical-align: top;\n",
       "    }\n",
       "\n",
       "    .dataframe thead th {\n",
       "        text-align: right;\n",
       "    }\n",
       "</style>\n",
       "<table border=\"1\" class=\"dataframe\">\n",
       "  <thead>\n",
       "    <tr style=\"text-align: right;\">\n",
       "      <th></th>\n",
       "      <th>Price</th>\n",
       "      <th>MPG.city</th>\n",
       "      <th>Clusters</th>\n",
       "    </tr>\n",
       "  </thead>\n",
       "  <tbody>\n",
       "    <tr>\n",
       "      <th>0</th>\n",
       "      <td>15.9</td>\n",
       "      <td>25</td>\n",
       "      <td>0</td>\n",
       "    </tr>\n",
       "    <tr>\n",
       "      <th>1</th>\n",
       "      <td>33.9</td>\n",
       "      <td>18</td>\n",
       "      <td>2</td>\n",
       "    </tr>\n",
       "    <tr>\n",
       "      <th>2</th>\n",
       "      <td>29.1</td>\n",
       "      <td>20</td>\n",
       "      <td>2</td>\n",
       "    </tr>\n",
       "    <tr>\n",
       "      <th>3</th>\n",
       "      <td>37.7</td>\n",
       "      <td>19</td>\n",
       "      <td>2</td>\n",
       "    </tr>\n",
       "    <tr>\n",
       "      <th>4</th>\n",
       "      <td>30.0</td>\n",
       "      <td>22</td>\n",
       "      <td>2</td>\n",
       "    </tr>\n",
       "  </tbody>\n",
       "</table>\n",
       "</div>"
      ],
      "text/plain": [
       "   Price  MPG.city  Clusters\n",
       "0   15.9        25         0\n",
       "1   33.9        18         2\n",
       "2   29.1        20         2\n",
       "3   37.7        19         2\n",
       "4   30.0        22         2"
      ]
     },
     "execution_count": 13,
     "metadata": {},
     "output_type": "execute_result"
    }
   ],
   "source": [
    "B.head()"
   ]
  },
  {
   "cell_type": "code",
   "execution_count": 14,
   "id": "82d812b8",
   "metadata": {},
   "outputs": [
    {
     "data": {
      "text/plain": [
       "<matplotlib.collections.PathCollection at 0x227916e5700>"
      ]
     },
     "execution_count": 14,
     "metadata": {},
     "output_type": "execute_result"
    },
    {
     "data": {
      "image/png": "[encoded data removed]",
      "text/plain": [
       "<Figure size 432x288 with 1 Axes>"
      ]
     },
     "metadata": {
      "needs_background": "light"
     },
     "output_type": "display_data"
    }
   ],
   "source": [
    "plt.scatter(B['Price'],B['MPG.city'],c=B.Clusters)"
   ]
  },
  {
   "cell_type": "markdown",
   "id": "cec02099",
   "metadata": {},
   "source": [
    "# Elbow Curve"
   ]
  },
  {
   "cell_type": "code",
   "execution_count": 15,
   "id": "b626dc1e",
   "metadata": {},
   "outputs": [],
   "source": [
    "from sklearn.cluster import KMeans\n",
    "K = list(range(1,15,1))\n",
    "WCSS = []\n",
    "for i in range(1,15,1):\n",
    "    km = KMeans(n_clusters=i)\n",
    "    model = km.fit(B)\n",
    "    WCSS.append(model.inertia_)"
   ]
  },
  {
   "cell_type": "code",
   "execution_count": 16,
   "id": "ac4d0182",
   "metadata": {},
   "outputs": [
    {
     "data": {
      "text/plain": [
       "[1, 2, 3, 4, 5, 6, 7, 8, 9, 10, 11, 12, 13, 14]"
      ]
     },
     "execution_count": 16,
     "metadata": {},
     "output_type": "execute_result"
    }
   ],
   "source": [
    "K"
   ]
  },
  {
   "cell_type": "code",
   "execution_count": 17,
   "id": "de1ba851",
   "metadata": {},
   "outputs": [
    {
     "data": {
      "text/plain": [
       "[11543.91376344086,\n",
       " 5336.652826086956,\n",
       " 3074.662666263864,\n",
       " 2186.1202597402594,\n",
       " 1482.1028318038564,\n",
       " 1076.3918948626047,\n",
       " 841.7820484330482,\n",
       " 685.7739564203912,\n",
       " 554.6299564203912,\n",
       " 476.1608846153846,\n",
       " 408.19586080586083,\n",
       " 357.5617338217338,\n",
       " 330.58079695304696,\n",
       " 287.2931028693529]"
      ]
     },
     "execution_count": 17,
     "metadata": {},
     "output_type": "execute_result"
    }
   ],
   "source": [
    "WCSS"
   ]
  },
  {
   "cell_type": "code",
   "execution_count": 18,
   "id": "5c0b93e5",
   "metadata": {},
   "outputs": [
    {
     "data": {
      "text/plain": [
       "[(1, 11543.91376344086),\n",
       " (2, 5336.652826086956),\n",
       " (3, 3074.662666263864),\n",
       " (4, 2186.1202597402594),\n",
       " (5, 1482.1028318038564),\n",
       " (6, 1076.3918948626047),\n",
       " (7, 841.7820484330482),\n",
       " (8, 685.7739564203912),\n",
       " (9, 554.6299564203912),\n",
       " (10, 476.1608846153846),\n",
       " (11, 408.19586080586083),\n",
       " (12, 357.5617338217338),\n",
       " (13, 330.58079695304696),\n",
       " (14, 287.2931028693529)]"
      ]
     },
     "execution_count": 18,
     "metadata": {},
     "output_type": "execute_result"
    }
   ],
   "source": [
    "list(zip(K,WCSS))"
   ]
  },
  {
   "cell_type": "code",
   "execution_count": 19,
   "id": "d02f94cf",
   "metadata": {},
   "outputs": [
    {
     "data": {
      "text/plain": [
       "([<matplotlib.axis.XTick at 0x22791808910>,\n",
       "  <matplotlib.axis.XTick at 0x227918088e0>,\n",
       "  <matplotlib.axis.XTick at 0x227917f8e20>,\n",
       "  <matplotlib.axis.XTick at 0x2279183c970>,\n",
       "  <matplotlib.axis.XTick at 0x2279183cca0>,\n",
       "  <matplotlib.axis.XTick at 0x22791c653d0>,\n",
       "  <matplotlib.axis.XTick at 0x22791c65b20>,\n",
       "  <matplotlib.axis.XTick at 0x22791c6c2b0>,\n",
       "  <matplotlib.axis.XTick at 0x22791c6ca00>,\n",
       "  <matplotlib.axis.XTick at 0x22791c72190>,\n",
       "  <matplotlib.axis.XTick at 0x22791c6cd30>,\n",
       "  <matplotlib.axis.XTick at 0x22791c65b80>,\n",
       "  <matplotlib.axis.XTick at 0x22791c72490>,\n",
       "  <matplotlib.axis.XTick at 0x22791c780a0>],\n",
       " [Text(0, 0, ''),\n",
       "  Text(0, 0, ''),\n",
       "  Text(0, 0, ''),\n",
       "  Text(0, 0, ''),\n",
       "  Text(0, 0, ''),\n",
       "  Text(0, 0, ''),\n",
       "  Text(0, 0, ''),\n",
       "  Text(0, 0, ''),\n",
       "  Text(0, 0, ''),\n",
       "  Text(0, 0, ''),\n",
       "  Text(0, 0, ''),\n",
       "  Text(0, 0, ''),\n",
       "  Text(0, 0, ''),\n",
       "  Text(0, 0, '')])"
      ]
     },
     "execution_count": 19,
     "metadata": {},
     "output_type": "execute_result"
    },
    {
     "data": {
      "image/png": "[encoded data removed]",
      "text/plain": [
       "<Figure size 432x288 with 1 Axes>"
      ]
     },
     "metadata": {
      "needs_background": "light"
     },
     "output_type": "display_data"
    }
   ],
   "source": [
    "import matplotlib.pyplot as plt\n",
    "plt.scatter(K,WCSS,c=\"red\")\n",
    "plt.plot(K,WCSS,c=\"blue\")\n",
    "plt.xlabel(\"Number of clusters - K\")\n",
    "plt.ylabel(\"Within Clusters Sum of Squares\")\n",
    "plt.title(\"Elbow Curve\")\n",
    "plt.xticks(range(1,15,1))"
   ]
  },
  {
   "cell_type": "markdown",
   "id": "a2375107",
   "metadata": {},
   "source": [
    " K=5"
   ]
  },
  {
   "cell_type": "code",
   "execution_count": 20,
   "id": "5193dc79",
   "metadata": {},
   "outputs": [],
   "source": [
    "B1 = A[[\"Price\",\"MPG.city\"]]"
   ]
  },
  {
   "cell_type": "code",
   "execution_count": 21,
   "id": "c5b829c8",
   "metadata": {},
   "outputs": [],
   "source": [
    "KM = KMeans(n_clusters=5)\n",
    "model = KM.fit(B1)"
   ]
  },
  {
   "cell_type": "code",
   "execution_count": 22,
   "id": "06f06eb4",
   "metadata": {},
   "outputs": [
    {
     "data": {
      "text/plain": [
       "array([4, 1, 1, 1, 1, 4, 0, 0, 0, 1, 1, 4, 4, 4, 4, 0, 0, 0, 1, 0, 4, 1,\n",
       "       3, 4, 4, 0, 4, 0, 3, 0, 3, 4, 4, 4, 4, 0, 0, 0, 3, 3, 0, 3, 4, 3,\n",
       "       4, 4, 4, 2, 1, 1, 1, 1, 3, 3, 4, 0, 1, 1, 2, 4, 4, 3, 0, 3, 4, 0,\n",
       "       0, 4, 4, 0, 0, 4, 3, 4, 0, 0, 0, 1, 3, 3, 4, 0, 3, 3, 4, 0, 0, 4,\n",
       "       0, 0, 0, 0, 0])"
      ]
     },
     "execution_count": 22,
     "metadata": {},
     "output_type": "execute_result"
    }
   ],
   "source": [
    "model.labels_"
   ]
  },
  {
   "cell_type": "code",
   "execution_count": 23,
   "id": "4322509c",
   "metadata": {},
   "outputs": [],
   "source": [
    "B1['Clusters']=model.labels_"
   ]
  },
  {
   "cell_type": "code",
   "execution_count": 24,
   "id": "f5b7927e",
   "metadata": {
    "scrolled": true
   },
   "outputs": [
    {
     "data": {
      "text/html": [
       "<div>\n",
       "<style scoped>\n",
       "    .dataframe tbody tr th:only-of-type {\n",
       "        vertical-align: middle;\n",
       "    }\n",
       "\n",
       "    .dataframe tbody tr th {\n",
       "        vertical-align: top;\n",
       "    }\n",
       "\n",
       "    .dataframe thead th {\n",
       "        text-align: right;\n",
       "    }\n",
       "</style>\n",
       "<table border=\"1\" class=\"dataframe\">\n",
       "  <thead>\n",
       "    <tr style=\"text-align: right;\">\n",
       "      <th></th>\n",
       "      <th>Price</th>\n",
       "      <th>MPG.city</th>\n",
       "      <th>Clusters</th>\n",
       "    </tr>\n",
       "  </thead>\n",
       "  <tbody>\n",
       "    <tr>\n",
       "      <th>0</th>\n",
       "      <td>15.9</td>\n",
       "      <td>25</td>\n",
       "      <td>4</td>\n",
       "    </tr>\n",
       "    <tr>\n",
       "      <th>1</th>\n",
       "      <td>33.9</td>\n",
       "      <td>18</td>\n",
       "      <td>1</td>\n",
       "    </tr>\n",
       "    <tr>\n",
       "      <th>2</th>\n",
       "      <td>29.1</td>\n",
       "      <td>20</td>\n",
       "      <td>1</td>\n",
       "    </tr>\n",
       "    <tr>\n",
       "      <th>3</th>\n",
       "      <td>37.7</td>\n",
       "      <td>19</td>\n",
       "      <td>1</td>\n",
       "    </tr>\n",
       "    <tr>\n",
       "      <th>4</th>\n",
       "      <td>30.0</td>\n",
       "      <td>22</td>\n",
       "      <td>1</td>\n",
       "    </tr>\n",
       "  </tbody>\n",
       "</table>\n",
       "</div>"
      ],
      "text/plain": [
       "   Price  MPG.city  Clusters\n",
       "0   15.9        25         4\n",
       "1   33.9        18         1\n",
       "2   29.1        20         1\n",
       "3   37.7        19         1\n",
       "4   30.0        22         1"
      ]
     },
     "execution_count": 24,
     "metadata": {},
     "output_type": "execute_result"
    }
   ],
   "source": [
    "B1.head()"
   ]
  },
  {
   "cell_type": "code",
   "execution_count": 25,
   "id": "f2a586b6",
   "metadata": {},
   "outputs": [
    {
     "data": {
      "text/plain": [
       "<matplotlib.collections.PathCollection at 0x22791ced160>"
      ]
     },
     "execution_count": 25,
     "metadata": {},
     "output_type": "execute_result"
    },
    {
     "data": {
      "image/png": "[encoded data removed]",
      "text/plain": [
       "<Figure size 432x288 with 1 Axes>"
      ]
     },
     "metadata": {
      "needs_background": "light"
     },
     "output_type": "display_data"
    }
   ],
   "source": [
    "plt.scatter(B1['Price'],B1['MPG.city'],c=B1.Clusters)"
   ]
  },
  {
   "cell_type": "code",
   "execution_count": 26,
   "id": "ceb81ffe",
   "metadata": {},
   "outputs": [],
   "source": [
    "B1[\"Make\"]=A.Make"
   ]
  },
  {
   "cell_type": "code",
   "execution_count": 27,
   "id": "a83acd1b",
   "metadata": {},
   "outputs": [
    {
     "data": {
      "text/html": [
       "<div>\n",
       "<style scoped>\n",
       "    .dataframe tbody tr th:only-of-type {\n",
       "        vertical-align: middle;\n",
       "    }\n",
       "\n",
       "    .dataframe tbody tr th {\n",
       "        vertical-align: top;\n",
       "    }\n",
       "\n",
       "    .dataframe thead th {\n",
       "        text-align: right;\n",
       "    }\n",
       "</style>\n",
       "<table border=\"1\" class=\"dataframe\">\n",
       "  <thead>\n",
       "    <tr style=\"text-align: right;\">\n",
       "      <th></th>\n",
       "      <th>Price</th>\n",
       "      <th>MPG.city</th>\n",
       "      <th>Clusters</th>\n",
       "      <th>Make</th>\n",
       "    </tr>\n",
       "  </thead>\n",
       "  <tbody>\n",
       "    <tr>\n",
       "      <th>0</th>\n",
       "      <td>15.9</td>\n",
       "      <td>25</td>\n",
       "      <td>4</td>\n",
       "      <td>Acura Integra</td>\n",
       "    </tr>\n",
       "    <tr>\n",
       "      <th>1</th>\n",
       "      <td>33.9</td>\n",
       "      <td>18</td>\n",
       "      <td>1</td>\n",
       "      <td>Acura Legend</td>\n",
       "    </tr>\n",
       "    <tr>\n",
       "      <th>2</th>\n",
       "      <td>29.1</td>\n",
       "      <td>20</td>\n",
       "      <td>1</td>\n",
       "      <td>Audi 90</td>\n",
       "    </tr>\n",
       "    <tr>\n",
       "      <th>3</th>\n",
       "      <td>37.7</td>\n",
       "      <td>19</td>\n",
       "      <td>1</td>\n",
       "      <td>Audi 100</td>\n",
       "    </tr>\n",
       "    <tr>\n",
       "      <th>4</th>\n",
       "      <td>30.0</td>\n",
       "      <td>22</td>\n",
       "      <td>1</td>\n",
       "      <td>BMW 535i</td>\n",
       "    </tr>\n",
       "  </tbody>\n",
       "</table>\n",
       "</div>"
      ],
      "text/plain": [
       "   Price  MPG.city  Clusters           Make\n",
       "0   15.9        25         4  Acura Integra\n",
       "1   33.9        18         1   Acura Legend\n",
       "2   29.1        20         1        Audi 90\n",
       "3   37.7        19         1       Audi 100\n",
       "4   30.0        22         1       BMW 535i"
      ]
     },
     "execution_count": 27,
     "metadata": {},
     "output_type": "execute_result"
    }
   ],
   "source": [
    "B1.head()"
   ]
  },
  {
   "cell_type": "code",
   "execution_count": 28,
   "id": "87f04a2f",
   "metadata": {},
   "outputs": [
    {
     "name": "stdout",
     "output_type": "stream",
     "text": [
      "Enter the car Acura Legend\n",
      "Cars that are similar to your cars are: \n",
      "['Acura Legend' 'Audi 90' 'Audi 100' 'BMW 535i' 'Cadillac DeVille'\n",
      " 'Cadillac Seville' 'Chevrolet Corvette' 'Chrysler Imperial' 'Lexus ES300'\n",
      " 'Lexus SC300' 'Lincoln Continental' 'Lincoln Town_Car' 'Mazda RX-7'\n",
      " 'Mercedes-Benz 190E' 'Saab 900']\n"
     ]
    }
   ],
   "source": [
    "a = input(\"Enter the car \")\n",
    "cluster_no_of_car = B1[B1.Make==a].Clusters.values[0]\n",
    "\n",
    "print(\"Cars that are similar to your cars are: \")\n",
    "\n",
    "print(B1[B1.Clusters==cluster_no_of_car].Make.values)"
   ]
  },
  {
   "cell_type": "code",
   "execution_count": 30,
   "id": "a7ff0cc1",
   "metadata": {},
   "outputs": [
    {
     "data": {
      "text/html": [
       "<div>\n",
       "<style scoped>\n",
       "    .dataframe tbody tr th:only-of-type {\n",
       "        vertical-align: middle;\n",
       "    }\n",
       "\n",
       "    .dataframe tbody tr th {\n",
       "        vertical-align: top;\n",
       "    }\n",
       "\n",
       "    .dataframe thead th {\n",
       "        text-align: right;\n",
       "    }\n",
       "</style>\n",
       "<table border=\"1\" class=\"dataframe\">\n",
       "  <thead>\n",
       "    <tr style=\"text-align: right;\">\n",
       "      <th></th>\n",
       "      <th>Price</th>\n",
       "      <th>MPG.city</th>\n",
       "      <th>Clusters</th>\n",
       "      <th>Make</th>\n",
       "    </tr>\n",
       "  </thead>\n",
       "  <tbody>\n",
       "    <tr>\n",
       "      <th>0</th>\n",
       "      <td>15.9</td>\n",
       "      <td>25</td>\n",
       "      <td>4</td>\n",
       "      <td>Acura Integra</td>\n",
       "    </tr>\n",
       "    <tr>\n",
       "      <th>1</th>\n",
       "      <td>33.9</td>\n",
       "      <td>18</td>\n",
       "      <td>1</td>\n",
       "      <td>Acura Legend</td>\n",
       "    </tr>\n",
       "    <tr>\n",
       "      <th>2</th>\n",
       "      <td>29.1</td>\n",
       "      <td>20</td>\n",
       "      <td>1</td>\n",
       "      <td>Audi 90</td>\n",
       "    </tr>\n",
       "    <tr>\n",
       "      <th>3</th>\n",
       "      <td>37.7</td>\n",
       "      <td>19</td>\n",
       "      <td>1</td>\n",
       "      <td>Audi 100</td>\n",
       "    </tr>\n",
       "    <tr>\n",
       "      <th>4</th>\n",
       "      <td>30.0</td>\n",
       "      <td>22</td>\n",
       "      <td>1</td>\n",
       "      <td>BMW 535i</td>\n",
       "    </tr>\n",
       "  </tbody>\n",
       "</table>\n",
       "</div>"
      ],
      "text/plain": [
       "   Price  MPG.city  Clusters           Make\n",
       "0   15.9        25         4  Acura Integra\n",
       "1   33.9        18         1   Acura Legend\n",
       "2   29.1        20         1        Audi 90\n",
       "3   37.7        19         1       Audi 100\n",
       "4   30.0        22         1       BMW 535i"
      ]
     },
     "execution_count": 30,
     "metadata": {},
     "output_type": "execute_result"
    }
   ],
   "source": [
    "B1.head()"
   ]
  },
  {
   "cell_type": "markdown",
   "id": "eb548543",
   "metadata": {},
   "source": [
    "# Hiearchical Clustering"
   ]
  },
  {
   "cell_type": "code",
   "execution_count": 31,
   "id": "c354d991",
   "metadata": {},
   "outputs": [],
   "source": [
    "from sklearn.cluster import AgglomerativeClustering\n",
    "agc = AgglomerativeClustering(n_clusters=4)\n",
    "B = A[[\"MPG.city\",\"Price\",\"Length\"]]\n",
    "model = agc.fit(B)"
   ]
  },
  {
   "cell_type": "code",
   "execution_count": 32,
   "id": "bd7be583",
   "metadata": {},
   "outputs": [
    {
     "data": {
      "text/plain": [
       "array([0, 2, 1, 2, 1, 3, 3, 2, 3, 2, 2, 1, 1, 3, 3, 1, 3, 2, 1, 3, 1, 3,\n",
       "       0, 0, 1, 1, 3, 1, 0, 3, 0, 0, 0, 1, 0, 1, 3, 2, 0, 0, 1, 0, 1, 0,\n",
       "       0, 0, 1, 2, 1, 2, 2, 2, 0, 0, 1, 3, 1, 1, 2, 0, 3, 0, 1, 0, 1, 3,\n",
       "       3, 3, 3, 3, 3, 0, 0, 1, 3, 3, 1, 1, 0, 0, 0, 1, 0, 0, 1, 3, 3, 0,\n",
       "       3, 1, 0, 3, 1], dtype=int64)"
      ]
     },
     "execution_count": 32,
     "metadata": {},
     "output_type": "execute_result"
    }
   ],
   "source": [
    "model.labels_"
   ]
  },
  {
   "cell_type": "code",
   "execution_count": 33,
   "id": "341a9102",
   "metadata": {},
   "outputs": [],
   "source": [
    "B[\"Cluster\"]= model.labels_"
   ]
  },
  {
   "cell_type": "code",
   "execution_count": 34,
   "id": "700bebad",
   "metadata": {},
   "outputs": [
    {
     "data": {
      "text/html": [
       "<div>\n",
       "<style scoped>\n",
       "    .dataframe tbody tr th:only-of-type {\n",
       "        vertical-align: middle;\n",
       "    }\n",
       "\n",
       "    .dataframe tbody tr th {\n",
       "        vertical-align: top;\n",
       "    }\n",
       "\n",
       "    .dataframe thead th {\n",
       "        text-align: right;\n",
       "    }\n",
       "</style>\n",
       "<table border=\"1\" class=\"dataframe\">\n",
       "  <thead>\n",
       "    <tr style=\"text-align: right;\">\n",
       "      <th></th>\n",
       "      <th>MPG.city</th>\n",
       "      <th>Price</th>\n",
       "      <th>Length</th>\n",
       "      <th>Cluster</th>\n",
       "    </tr>\n",
       "  </thead>\n",
       "  <tbody>\n",
       "    <tr>\n",
       "      <th>0</th>\n",
       "      <td>25</td>\n",
       "      <td>15.9</td>\n",
       "      <td>177</td>\n",
       "      <td>0</td>\n",
       "    </tr>\n",
       "    <tr>\n",
       "      <th>1</th>\n",
       "      <td>18</td>\n",
       "      <td>33.9</td>\n",
       "      <td>195</td>\n",
       "      <td>2</td>\n",
       "    </tr>\n",
       "  </tbody>\n",
       "</table>\n",
       "</div>"
      ],
      "text/plain": [
       "   MPG.city  Price  Length  Cluster\n",
       "0        25   15.9     177        0\n",
       "1        18   33.9     195        2"
      ]
     },
     "execution_count": 34,
     "metadata": {},
     "output_type": "execute_result"
    }
   ],
   "source": [
    "B.head(2)"
   ]
  },
  {
   "cell_type": "code",
   "execution_count": 35,
   "id": "58ce8369",
   "metadata": {
    "scrolled": false
   },
   "outputs": [
    {
     "data": {
      "text/plain": [
       "<matplotlib.collections.PathCollection at 0x22791d4f250>"
      ]
     },
     "execution_count": 35,
     "metadata": {},
     "output_type": "execute_result"
    },
    {
     "data": {
      "image/png": "[encoded data removed]",
      "text/plain": [
       "<Figure size 432x288 with 1 Axes>"
      ]
     },
     "metadata": {
      "needs_background": "light"
     },
     "output_type": "display_data"
    }
   ],
   "source": [
    "plt.scatter(B['Price'],B['Length'],c=B.Cluster)"
   ]
  },
  {
   "cell_type": "markdown",
   "id": "2cbb5d01",
   "metadata": {},
   "source": [
    "# Creation Of a Dendogram"
   ]
  },
  {
   "cell_type": "code",
   "execution_count": 36,
   "id": "badd6449",
   "metadata": {},
   "outputs": [],
   "source": [
    "from scipy.spatial import distance_matrix\n",
    "from scipy.cluster.hierarchy import dendrogram, linkage"
   ]
  },
  {
   "cell_type": "code",
   "execution_count": 37,
   "id": "f4481597",
   "metadata": {},
   "outputs": [
    {
     "data": {
      "image/png": "[encoded data removed]",
      "text/plain": [
       "<Figure size 432x288 with 1 Axes>"
      ]
     },
     "metadata": {
      "needs_background": "light"
     },
     "output_type": "display_data"
    }
   ],
   "source": [
    "D = pd.DataFrame(distance_matrix(B.values,B.values))\n",
    "dendrogram(linkage(D))\n",
    "plt.show()"
   ]
  },
  {
   "cell_type": "code",
   "execution_count": 38,
   "id": "4d3ae41c",
   "metadata": {},
   "outputs": [],
   "source": [
    "B[\"Model\"] = A[\"Model\"]"
   ]
  },
  {
   "cell_type": "code",
   "execution_count": 39,
   "id": "275e592b",
   "metadata": {
    "scrolled": true
   },
   "outputs": [
    {
     "data": {
      "text/html": [
       "<div>\n",
       "<style scoped>\n",
       "    .dataframe tbody tr th:only-of-type {\n",
       "        vertical-align: middle;\n",
       "    }\n",
       "\n",
       "    .dataframe tbody tr th {\n",
       "        vertical-align: top;\n",
       "    }\n",
       "\n",
       "    .dataframe thead th {\n",
       "        text-align: right;\n",
       "    }\n",
       "</style>\n",
       "<table border=\"1\" class=\"dataframe\">\n",
       "  <thead>\n",
       "    <tr style=\"text-align: right;\">\n",
       "      <th></th>\n",
       "      <th>MPG.city</th>\n",
       "      <th>Price</th>\n",
       "      <th>Length</th>\n",
       "      <th>Cluster</th>\n",
       "      <th>Model</th>\n",
       "    </tr>\n",
       "  </thead>\n",
       "  <tbody>\n",
       "    <tr>\n",
       "      <th>0</th>\n",
       "      <td>25</td>\n",
       "      <td>15.9</td>\n",
       "      <td>177</td>\n",
       "      <td>0</td>\n",
       "      <td>Integra</td>\n",
       "    </tr>\n",
       "    <tr>\n",
       "      <th>1</th>\n",
       "      <td>18</td>\n",
       "      <td>33.9</td>\n",
       "      <td>195</td>\n",
       "      <td>2</td>\n",
       "      <td>Legend</td>\n",
       "    </tr>\n",
       "    <tr>\n",
       "      <th>2</th>\n",
       "      <td>20</td>\n",
       "      <td>29.1</td>\n",
       "      <td>180</td>\n",
       "      <td>1</td>\n",
       "      <td>90</td>\n",
       "    </tr>\n",
       "    <tr>\n",
       "      <th>3</th>\n",
       "      <td>19</td>\n",
       "      <td>37.7</td>\n",
       "      <td>193</td>\n",
       "      <td>2</td>\n",
       "      <td>100</td>\n",
       "    </tr>\n",
       "    <tr>\n",
       "      <th>4</th>\n",
       "      <td>22</td>\n",
       "      <td>30.0</td>\n",
       "      <td>186</td>\n",
       "      <td>1</td>\n",
       "      <td>535i</td>\n",
       "    </tr>\n",
       "  </tbody>\n",
       "</table>\n",
       "</div>"
      ],
      "text/plain": [
       "   MPG.city  Price  Length  Cluster    Model\n",
       "0        25   15.9     177        0  Integra\n",
       "1        18   33.9     195        2   Legend\n",
       "2        20   29.1     180        1       90\n",
       "3        19   37.7     193        2      100\n",
       "4        22   30.0     186        1     535i"
      ]
     },
     "execution_count": 39,
     "metadata": {},
     "output_type": "execute_result"
    }
   ],
   "source": [
    "B.head()"
   ]
  },
  {
   "cell_type": "code",
   "execution_count": 41,
   "id": "e2b8a02c",
   "metadata": {
    "scrolled": true
   },
   "outputs": [
    {
     "name": "stdout",
     "output_type": "stream",
     "text": [
      "Enter the car Integra\n",
      "Cars that are similar to your cars are: \n",
      "['Integra' 'Colt' 'Shadow' 'Summit' 'Festiva' 'Escort' 'Tempo' 'Probe'\n",
      " 'Metro' 'Storm' 'Civic' 'Excel' 'Elantra' 'Scoupe' '323' 'Protege'\n",
      " 'Capri' 'Mirage' 'Sentra' 'Laser' 'LeMans' 'SL' 'Justy' 'Loyale' 'Swift'\n",
      " 'Tercel' 'Fox' 'Corrado']\n"
     ]
    }
   ],
   "source": [
    "model = input(\"Enter the car \")\n",
    "cluster_no_of_car = B[B.Model==model].Cluster.values[0]\n",
    "\n",
    "print(\"Cars that are similar to your cars are: \")\n",
    "\n",
    "print(B[B.Cluster==cluster_no_of_car].Model.values)"
   ]
  },
  {
   "cell_type": "code",
   "execution_count": null,
   "id": "4240054c",
   "metadata": {},
   "outputs": [],
   "source": []
  }
 ],
 "metadata": {
  "kernelspec": {
   "display_name": "Python 3 (ipykernel)",
   "language": "python",
   "name": "python3"
  },
  "language_info": {
   "codemirror_mode": {
    "name": "ipython",
    "version": 3
   },
   "file_extension": ".py",
   "mimetype": "text/x-python",
   "name": "python",
   "nbconvert_exporter": "python",
   "pygments_lexer": "ipython3",
   "version": "3.9.7"
  }
 },
 "nbformat": 4,
 "nbformat_minor": 5
}
